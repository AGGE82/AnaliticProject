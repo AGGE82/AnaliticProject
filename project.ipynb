{
 "cells": [
  {
   "cell_type": "markdown",
   "metadata": {},
   "source": [
    "## Project\n"
   ]
  },
  {
   "cell_type": "markdown",
   "metadata": {},
   "source": [
    "### Importaciones\n"
   ]
  },
  {
   "cell_type": "code",
   "execution_count": 20,
   "metadata": {},
   "outputs": [],
   "source": [
    "import pandas as pd"
   ]
  },
  {
   "cell_type": "markdown",
   "metadata": {},
   "source": [
    "Lectura del data set (se necesito separar por ; para su correcta lectura)"
   ]
  },
  {
   "cell_type": "code",
   "execution_count": null,
   "metadata": {},
   "outputs": [
    {
     "name": "stderr",
     "output_type": "stream",
     "text": [
      "C:\\Users\\aleja\\AppData\\Local\\Temp\\ipykernel_16724\\3041061035.py:1: DtypeWarning: Columns (13,14) have mixed types. Specify dtype option on import or set low_memory=False.\n",
      "  covid = pd.read_csv(\"Datos interesantes/Casos_positivos_de_COVID-19_en_Colombia._20250112.csv\", sep=\";\", nrows=500000)\n"
     ]
    },
    {
     "data": {
      "text/html": [
       "<div>\n",
       "<style scoped>\n",
       "    .dataframe tbody tr th:only-of-type {\n",
       "        vertical-align: middle;\n",
       "    }\n",
       "\n",
       "    .dataframe tbody tr th {\n",
       "        vertical-align: top;\n",
       "    }\n",
       "\n",
       "    .dataframe thead th {\n",
       "        text-align: right;\n",
       "    }\n",
       "</style>\n",
       "<table border=\"1\" class=\"dataframe\">\n",
       "  <thead>\n",
       "    <tr style=\"text-align: right;\">\n",
       "      <th></th>\n",
       "      <th>fecha reporte web</th>\n",
       "      <th>ID de caso</th>\n",
       "      <th>Fecha de notificación</th>\n",
       "      <th>Código DIVIPOLA departamento</th>\n",
       "      <th>Nombre departamento</th>\n",
       "      <th>Código DIVIPOLA municipio</th>\n",
       "      <th>Nombre municipio</th>\n",
       "      <th>Edad</th>\n",
       "      <th>Unidad de medida de edad</th>\n",
       "      <th>Sexo</th>\n",
       "      <th>...</th>\n",
       "      <th>Código ISO del país</th>\n",
       "      <th>Nombre del país</th>\n",
       "      <th>Recuperado</th>\n",
       "      <th>Fecha de inicio de síntomas</th>\n",
       "      <th>Fecha de muerte</th>\n",
       "      <th>Fecha de diagnóstico</th>\n",
       "      <th>Fecha de recuperación</th>\n",
       "      <th>Tipo de recuperación</th>\n",
       "      <th>Pertenencia étnica</th>\n",
       "      <th>Nombre del grupo étnico</th>\n",
       "    </tr>\n",
       "  </thead>\n",
       "  <tbody>\n",
       "    <tr>\n",
       "      <th>0</th>\n",
       "      <td>2020-12-24 00:00:00</td>\n",
       "      <td>1,556,979</td>\n",
       "      <td>2020-12-22 00:00:00</td>\n",
       "      <td>76</td>\n",
       "      <td>VALLE</td>\n",
       "      <td>76,001</td>\n",
       "      <td>CALI</td>\n",
       "      <td>67</td>\n",
       "      <td>1</td>\n",
       "      <td>F</td>\n",
       "      <td>...</td>\n",
       "      <td>NaN</td>\n",
       "      <td>NaN</td>\n",
       "      <td>Recuperado</td>\n",
       "      <td>2020-12-21 00:00:00</td>\n",
       "      <td>NaN</td>\n",
       "      <td>2020-12-23 00:00:00</td>\n",
       "      <td>2021-01-04 00:00:00</td>\n",
       "      <td>Tiempo</td>\n",
       "      <td>6</td>\n",
       "      <td>NaN</td>\n",
       "    </tr>\n",
       "    <tr>\n",
       "      <th>1</th>\n",
       "      <td>2020-12-24 00:00:00</td>\n",
       "      <td>1,556,980</td>\n",
       "      <td>2020-12-19 00:00:00</td>\n",
       "      <td>76</td>\n",
       "      <td>VALLE</td>\n",
       "      <td>76,001</td>\n",
       "      <td>CALI</td>\n",
       "      <td>66</td>\n",
       "      <td>1</td>\n",
       "      <td>F</td>\n",
       "      <td>...</td>\n",
       "      <td>NaN</td>\n",
       "      <td>NaN</td>\n",
       "      <td>Recuperado</td>\n",
       "      <td>2020-12-07 00:00:00</td>\n",
       "      <td>NaN</td>\n",
       "      <td>2020-12-23 00:00:00</td>\n",
       "      <td>2020-12-25 00:00:00</td>\n",
       "      <td>Tiempo</td>\n",
       "      <td>6</td>\n",
       "      <td>NaN</td>\n",
       "    </tr>\n",
       "    <tr>\n",
       "      <th>2</th>\n",
       "      <td>2020-12-24 00:00:00</td>\n",
       "      <td>1,556,981</td>\n",
       "      <td>2020-12-19 00:00:00</td>\n",
       "      <td>76</td>\n",
       "      <td>VALLE</td>\n",
       "      <td>76,001</td>\n",
       "      <td>CALI</td>\n",
       "      <td>68</td>\n",
       "      <td>1</td>\n",
       "      <td>F</td>\n",
       "      <td>...</td>\n",
       "      <td>NaN</td>\n",
       "      <td>NaN</td>\n",
       "      <td>Recuperado</td>\n",
       "      <td>2020-12-18 00:00:00</td>\n",
       "      <td>NaN</td>\n",
       "      <td>2020-12-22 00:00:00</td>\n",
       "      <td>2021-01-01 00:00:00</td>\n",
       "      <td>Tiempo</td>\n",
       "      <td>6</td>\n",
       "      <td>NaN</td>\n",
       "    </tr>\n",
       "    <tr>\n",
       "      <th>3</th>\n",
       "      <td>2020-12-24 00:00:00</td>\n",
       "      <td>1,556,982</td>\n",
       "      <td>2020-12-22 00:00:00</td>\n",
       "      <td>76</td>\n",
       "      <td>VALLE</td>\n",
       "      <td>76,001</td>\n",
       "      <td>CALI</td>\n",
       "      <td>74</td>\n",
       "      <td>1</td>\n",
       "      <td>F</td>\n",
       "      <td>...</td>\n",
       "      <td>NaN</td>\n",
       "      <td>NaN</td>\n",
       "      <td>Fallecido</td>\n",
       "      <td>2020-12-17 00:00:00</td>\n",
       "      <td>2020-12-30 00:00:00</td>\n",
       "      <td>2020-12-23 00:00:00</td>\n",
       "      <td>NaN</td>\n",
       "      <td>NaN</td>\n",
       "      <td>6</td>\n",
       "      <td>NaN</td>\n",
       "    </tr>\n",
       "    <tr>\n",
       "      <th>4</th>\n",
       "      <td>2020-12-24 00:00:00</td>\n",
       "      <td>1,556,983</td>\n",
       "      <td>2020-12-22 00:00:00</td>\n",
       "      <td>76</td>\n",
       "      <td>VALLE</td>\n",
       "      <td>76,001</td>\n",
       "      <td>CALI</td>\n",
       "      <td>65</td>\n",
       "      <td>1</td>\n",
       "      <td>F</td>\n",
       "      <td>...</td>\n",
       "      <td>NaN</td>\n",
       "      <td>NaN</td>\n",
       "      <td>Recuperado</td>\n",
       "      <td>2020-12-21 00:00:00</td>\n",
       "      <td>NaN</td>\n",
       "      <td>2020-12-23 00:00:00</td>\n",
       "      <td>2021-01-04 00:00:00</td>\n",
       "      <td>Tiempo</td>\n",
       "      <td>6</td>\n",
       "      <td>NaN</td>\n",
       "    </tr>\n",
       "  </tbody>\n",
       "</table>\n",
       "<p>5 rows × 23 columns</p>\n",
       "</div>"
      ],
      "text/plain": [
       "     fecha reporte web ID de caso Fecha de notificación  \\\n",
       "0  2020-12-24 00:00:00  1,556,979   2020-12-22 00:00:00   \n",
       "1  2020-12-24 00:00:00  1,556,980   2020-12-19 00:00:00   \n",
       "2  2020-12-24 00:00:00  1,556,981   2020-12-19 00:00:00   \n",
       "3  2020-12-24 00:00:00  1,556,982   2020-12-22 00:00:00   \n",
       "4  2020-12-24 00:00:00  1,556,983   2020-12-22 00:00:00   \n",
       "\n",
       "  Código DIVIPOLA departamento Nombre departamento Código DIVIPOLA municipio  \\\n",
       "0                           76               VALLE                    76,001   \n",
       "1                           76               VALLE                    76,001   \n",
       "2                           76               VALLE                    76,001   \n",
       "3                           76               VALLE                    76,001   \n",
       "4                           76               VALLE                    76,001   \n",
       "\n",
       "  Nombre municipio  Edad  Unidad de medida de edad Sexo  ...  \\\n",
       "0             CALI    67                         1    F  ...   \n",
       "1             CALI    66                         1    F  ...   \n",
       "2             CALI    68                         1    F  ...   \n",
       "3             CALI    74                         1    F  ...   \n",
       "4             CALI    65                         1    F  ...   \n",
       "\n",
       "  Código ISO del país Nombre del país  Recuperado Fecha de inicio de síntomas  \\\n",
       "0                 NaN             NaN  Recuperado         2020-12-21 00:00:00   \n",
       "1                 NaN             NaN  Recuperado         2020-12-07 00:00:00   \n",
       "2                 NaN             NaN  Recuperado         2020-12-18 00:00:00   \n",
       "3                 NaN             NaN   Fallecido         2020-12-17 00:00:00   \n",
       "4                 NaN             NaN  Recuperado         2020-12-21 00:00:00   \n",
       "\n",
       "       Fecha de muerte Fecha de diagnóstico Fecha de recuperación  \\\n",
       "0                  NaN  2020-12-23 00:00:00   2021-01-04 00:00:00   \n",
       "1                  NaN  2020-12-23 00:00:00   2020-12-25 00:00:00   \n",
       "2                  NaN  2020-12-22 00:00:00   2021-01-01 00:00:00   \n",
       "3  2020-12-30 00:00:00  2020-12-23 00:00:00                   NaN   \n",
       "4                  NaN  2020-12-23 00:00:00   2021-01-04 00:00:00   \n",
       "\n",
       "  Tipo de recuperación Pertenencia étnica Nombre del grupo étnico  \n",
       "0               Tiempo                  6                     NaN  \n",
       "1               Tiempo                  6                     NaN  \n",
       "2               Tiempo                  6                     NaN  \n",
       "3                  NaN                  6                     NaN  \n",
       "4               Tiempo                  6                     NaN  \n",
       "\n",
       "[5 rows x 23 columns]"
      ]
     },
     "execution_count": 21,
     "metadata": {},
     "output_type": "execute_result"
    }
   ],
   "source": [
    "covid = pd.read_csv(\"Datos interesantes/Casos_positivos_de_COVID-19_en_Colombia._20250112.csv\", sep=\";\")\n",
    "covid.head()"
   ]
  },
  {
   "cell_type": "markdown",
   "metadata": {},
   "source": [
    "Información de las variables"
   ]
  },
  {
   "cell_type": "code",
   "execution_count": 23,
   "metadata": {},
   "outputs": [
    {
     "name": "stdout",
     "output_type": "stream",
     "text": [
      "<class 'pandas.core.frame.DataFrame'>\n",
      "RangeIndex: 500000 entries, 0 to 499999\n",
      "Data columns (total 23 columns):\n",
      " #   Column                        Non-Null Count   Dtype \n",
      "---  ------                        --------------   ----- \n",
      " 0   fecha reporte web             500000 non-null  object\n",
      " 1   ID de caso                    500000 non-null  object\n",
      " 2   Fecha de notificación         500000 non-null  object\n",
      " 3   Código DIVIPOLA departamento  500000 non-null  object\n",
      " 4   Nombre departamento           500000 non-null  object\n",
      " 5   Código DIVIPOLA municipio     500000 non-null  object\n",
      " 6   Nombre municipio              500000 non-null  object\n",
      " 7   Edad                          500000 non-null  int64 \n",
      " 8   Unidad de medida de edad      500000 non-null  int64 \n",
      " 9   Sexo                          500000 non-null  object\n",
      " 10  Tipo de contagio              500000 non-null  object\n",
      " 11  Ubicación del caso            497693 non-null  object\n",
      " 12  Estado                        497693 non-null  object\n",
      " 13  Código ISO del país           237 non-null     object\n",
      " 14  Nombre del país               237 non-null     object\n",
      " 15  Recuperado                    498129 non-null  object\n",
      " 16  Fecha de inicio de síntomas   453685 non-null  object\n",
      " 17  Fecha de muerte               15936 non-null   object\n",
      " 18  Fecha de diagnóstico          499729 non-null  object\n",
      " 19  Fecha de recuperación         484500 non-null  object\n",
      " 20  Tipo de recuperación          484500 non-null  object\n",
      " 21  Pertenencia étnica            500000 non-null  int64 \n",
      " 22  Nombre del grupo étnico       7380 non-null    object\n",
      "dtypes: int64(3), object(20)\n",
      "memory usage: 87.7+ MB\n"
     ]
    }
   ],
   "source": [
    "covid.info()"
   ]
  },
  {
   "cell_type": "markdown",
   "metadata": {},
   "source": [
    "### **Inicio proceso de limpieza**\n",
    "Eliminación de duplicados"
   ]
  },
  {
   "cell_type": "code",
   "execution_count": 26,
   "metadata": {},
   "outputs": [
    {
     "data": {
      "text/plain": [
       "fecha reporte web                    0\n",
       "ID de caso                           0\n",
       "Fecha de notificación                0\n",
       "Código DIVIPOLA departamento         0\n",
       "Nombre departamento                  0\n",
       "Código DIVIPOLA municipio            0\n",
       "Nombre municipio                     0\n",
       "Edad                                 0\n",
       "Unidad de medida de edad             0\n",
       "Sexo                                 0\n",
       "Tipo de contagio                     0\n",
       "Ubicación del caso                2307\n",
       "Estado                            2307\n",
       "Código ISO del país             499763\n",
       "Nombre del país                 499763\n",
       "Recuperado                        1871\n",
       "Fecha de inicio de síntomas      46315\n",
       "Fecha de muerte                 484064\n",
       "Fecha de diagnóstico               271\n",
       "Fecha de recuperación            15500\n",
       "Tipo de recuperación             15500\n",
       "Pertenencia étnica                   0\n",
       "Nombre del grupo étnico         492620\n",
       "dtype: int64"
      ]
     },
     "execution_count": 26,
     "metadata": {},
     "output_type": "execute_result"
    }
   ],
   "source": [
    "duplicados = covid.duplicated()\n",
    "covid = covid.drop_duplicates()\n",
    "covid.isna().sum()"
   ]
  },
  {
   "cell_type": "markdown",
   "metadata": {},
   "source": [
    "Transformación del tipo de variables de fecha a datetime"
   ]
  },
  {
   "cell_type": "code",
   "execution_count": 27,
   "metadata": {},
   "outputs": [],
   "source": [
    "covid['Fecha de inicio de síntomas'] = pd.to_datetime(covid['Fecha de inicio de síntomas'], errors='coerce')\n",
    "covid['Fecha de diagnóstico'] = pd.to_datetime(covid['Fecha de diagnóstico'], errors='coerce')\n",
    "covid['Fecha de muerte'] = pd.to_datetime(covid['Fecha de muerte'], errors='coerce')\n",
    "covid['Fecha de recuperación'] = pd.to_datetime(covid['Fecha de recuperación'], errors='coerce')"
   ]
  },
  {
   "cell_type": "markdown",
   "metadata": {},
   "source": [
    "Creación de nuevas variables para contestar las preguntas de negocio"
   ]
  },
  {
   "cell_type": "code",
   "execution_count": null,
   "metadata": {},
   "outputs": [],
   "source": [
    "covid['sobrevivio'] = covid['Fecha de muerte'].isna().astype(int)\n",
    "covid['dias_diagnostico'] = (covid['Fecha de diagnóstico'] - covid['Fecha de inicio de síntomas']).dt.days\n",
    "analisis = covid[['dias_diagnostico', 'sobrevivio']].dropna()"
   ]
  },
  {
   "cell_type": "code",
   "execution_count": 31,
   "metadata": {},
   "outputs": [
    {
     "data": {
      "text/plain": [
       "Código ISO del país            499763\n",
       "Nombre del país                499763\n",
       "Nombre del grupo étnico        492620\n",
       "Fecha de muerte                484064\n",
       "dias_diagnostico                46565\n",
       "Fecha de inicio de síntomas     46315\n",
       "Fecha de recuperación           15500\n",
       "Tipo de recuperación            15500\n",
       "Ubicación del caso               2307\n",
       "Estado                           2307\n",
       "Recuperado                       1871\n",
       "Fecha de diagnóstico              271\n",
       "dtype: int64"
      ]
     },
     "execution_count": 31,
     "metadata": {},
     "output_type": "execute_result"
    }
   ],
   "source": [
    "columns_with_missing = covid.isna().sum()[covid.isna().sum() > 0]\n",
    "columns_with_missing.sort_values(ascending=False)"
   ]
  },
  {
   "cell_type": "code",
   "execution_count": 32,
   "metadata": {},
   "outputs": [
    {
     "name": "stdout",
     "output_type": "stream",
     "text": [
      "Index(['Código ISO del país', 'Nombre del país', 'Fecha de muerte',\n",
      "       'Nombre del grupo étnico', 'ID de caso'],\n",
      "      dtype='object')\n"
     ]
    }
   ],
   "source": [
    "threshold_colum = len(covid) * 0.3\n",
    "cols_to_drop = covid.columns[covid.isna().sum() > threshold_colum]\n",
    "cols_to_drop = cols_to_drop.append(pd.Index(['ID de caso']))\n",
    "print(cols_to_drop)"
   ]
  },
  {
   "cell_type": "code",
   "execution_count": 33,
   "metadata": {},
   "outputs": [],
   "source": [
    "covid.drop(columns=cols_to_drop, inplace=True)"
   ]
  },
  {
   "cell_type": "code",
   "execution_count": 34,
   "metadata": {},
   "outputs": [
    {
     "data": {
      "text/plain": [
       "Ubicación del caso              2307\n",
       "Estado                          2307\n",
       "Recuperado                      1871\n",
       "Fecha de inicio de síntomas    46315\n",
       "Fecha de diagnóstico             271\n",
       "Fecha de recuperación          15500\n",
       "Tipo de recuperación           15500\n",
       "dias_diagnostico               46565\n",
       "dtype: int64"
      ]
     },
     "execution_count": 34,
     "metadata": {},
     "output_type": "execute_result"
    }
   ],
   "source": [
    "missing_values_after_drop = covid.isnull().sum()\n",
    "columns_with_missing_after_drop = missing_values_after_drop[missing_values_after_drop > 0]\n",
    "columns_with_missing_after_drop "
   ]
  },
  {
   "cell_type": "code",
   "execution_count": 35,
   "metadata": {},
   "outputs": [],
   "source": [
    "categorical_columns = ['Ubicación del caso', 'Estado', 'Recuperado', 'Fecha de recuperación', 'Tipo de recuperación']\n",
    "for col in categorical_columns:\n",
    "    covid[col] = covid[col].fillna(covid[col].mode()[0])"
   ]
  },
  {
   "cell_type": "markdown",
   "metadata": {},
   "source": [
    "Eliminar variables redundantes\n"
   ]
  },
  {
   "cell_type": "code",
   "execution_count": 36,
   "metadata": {},
   "outputs": [],
   "source": [
    "covid = covid.drop(columns=[\"Código DIVIPOLA departamento\",\"Código DIVIPOLA municipio\"])"
   ]
  },
  {
   "cell_type": "code",
   "execution_count": 37,
   "metadata": {},
   "outputs": [
    {
     "data": {
      "text/html": [
       "<div>\n",
       "<style scoped>\n",
       "    .dataframe tbody tr th:only-of-type {\n",
       "        vertical-align: middle;\n",
       "    }\n",
       "\n",
       "    .dataframe tbody tr th {\n",
       "        vertical-align: top;\n",
       "    }\n",
       "\n",
       "    .dataframe thead th {\n",
       "        text-align: right;\n",
       "    }\n",
       "</style>\n",
       "<table border=\"1\" class=\"dataframe\">\n",
       "  <thead>\n",
       "    <tr style=\"text-align: right;\">\n",
       "      <th></th>\n",
       "      <th>fecha reporte web</th>\n",
       "      <th>Fecha de notificación</th>\n",
       "      <th>Nombre departamento</th>\n",
       "      <th>Nombre municipio</th>\n",
       "      <th>Edad</th>\n",
       "      <th>Unidad de medida de edad</th>\n",
       "      <th>Sexo</th>\n",
       "      <th>Tipo de contagio</th>\n",
       "      <th>Ubicación del caso</th>\n",
       "      <th>Estado</th>\n",
       "      <th>Recuperado</th>\n",
       "      <th>Fecha de inicio de síntomas</th>\n",
       "      <th>Fecha de diagnóstico</th>\n",
       "      <th>Fecha de recuperación</th>\n",
       "      <th>Tipo de recuperación</th>\n",
       "      <th>Pertenencia étnica</th>\n",
       "      <th>sobrevivio</th>\n",
       "      <th>dias_diagnostico</th>\n",
       "    </tr>\n",
       "  </thead>\n",
       "  <tbody>\n",
       "    <tr>\n",
       "      <th>0</th>\n",
       "      <td>2020-12-24 00:00:00</td>\n",
       "      <td>2020-12-22 00:00:00</td>\n",
       "      <td>VALLE</td>\n",
       "      <td>CALI</td>\n",
       "      <td>67</td>\n",
       "      <td>1</td>\n",
       "      <td>F</td>\n",
       "      <td>Comunitaria</td>\n",
       "      <td>Casa</td>\n",
       "      <td>Leve</td>\n",
       "      <td>Recuperado</td>\n",
       "      <td>2020-12-21</td>\n",
       "      <td>2020-12-23</td>\n",
       "      <td>2021-01-04</td>\n",
       "      <td>Tiempo</td>\n",
       "      <td>6</td>\n",
       "      <td>1</td>\n",
       "      <td>2.0</td>\n",
       "    </tr>\n",
       "    <tr>\n",
       "      <th>1</th>\n",
       "      <td>2020-12-24 00:00:00</td>\n",
       "      <td>2020-12-19 00:00:00</td>\n",
       "      <td>VALLE</td>\n",
       "      <td>CALI</td>\n",
       "      <td>66</td>\n",
       "      <td>1</td>\n",
       "      <td>F</td>\n",
       "      <td>Comunitaria</td>\n",
       "      <td>Casa</td>\n",
       "      <td>Leve</td>\n",
       "      <td>Recuperado</td>\n",
       "      <td>2020-12-07</td>\n",
       "      <td>2020-12-23</td>\n",
       "      <td>2020-12-25</td>\n",
       "      <td>Tiempo</td>\n",
       "      <td>6</td>\n",
       "      <td>1</td>\n",
       "      <td>16.0</td>\n",
       "    </tr>\n",
       "    <tr>\n",
       "      <th>2</th>\n",
       "      <td>2020-12-24 00:00:00</td>\n",
       "      <td>2020-12-19 00:00:00</td>\n",
       "      <td>VALLE</td>\n",
       "      <td>CALI</td>\n",
       "      <td>68</td>\n",
       "      <td>1</td>\n",
       "      <td>F</td>\n",
       "      <td>Comunitaria</td>\n",
       "      <td>Casa</td>\n",
       "      <td>Leve</td>\n",
       "      <td>Recuperado</td>\n",
       "      <td>2020-12-18</td>\n",
       "      <td>2020-12-22</td>\n",
       "      <td>2021-01-01</td>\n",
       "      <td>Tiempo</td>\n",
       "      <td>6</td>\n",
       "      <td>1</td>\n",
       "      <td>4.0</td>\n",
       "    </tr>\n",
       "    <tr>\n",
       "      <th>3</th>\n",
       "      <td>2020-12-24 00:00:00</td>\n",
       "      <td>2020-12-22 00:00:00</td>\n",
       "      <td>VALLE</td>\n",
       "      <td>CALI</td>\n",
       "      <td>74</td>\n",
       "      <td>1</td>\n",
       "      <td>F</td>\n",
       "      <td>Comunitaria</td>\n",
       "      <td>Fallecido</td>\n",
       "      <td>Fallecido</td>\n",
       "      <td>Fallecido</td>\n",
       "      <td>2020-12-17</td>\n",
       "      <td>2020-12-23</td>\n",
       "      <td>2021-06-01</td>\n",
       "      <td>Tiempo</td>\n",
       "      <td>6</td>\n",
       "      <td>0</td>\n",
       "      <td>6.0</td>\n",
       "    </tr>\n",
       "    <tr>\n",
       "      <th>4</th>\n",
       "      <td>2020-12-24 00:00:00</td>\n",
       "      <td>2020-12-22 00:00:00</td>\n",
       "      <td>VALLE</td>\n",
       "      <td>CALI</td>\n",
       "      <td>65</td>\n",
       "      <td>1</td>\n",
       "      <td>F</td>\n",
       "      <td>Comunitaria</td>\n",
       "      <td>Casa</td>\n",
       "      <td>Leve</td>\n",
       "      <td>Recuperado</td>\n",
       "      <td>2020-12-21</td>\n",
       "      <td>2020-12-23</td>\n",
       "      <td>2021-01-04</td>\n",
       "      <td>Tiempo</td>\n",
       "      <td>6</td>\n",
       "      <td>1</td>\n",
       "      <td>2.0</td>\n",
       "    </tr>\n",
       "  </tbody>\n",
       "</table>\n",
       "</div>"
      ],
      "text/plain": [
       "     fecha reporte web Fecha de notificación Nombre departamento  \\\n",
       "0  2020-12-24 00:00:00   2020-12-22 00:00:00               VALLE   \n",
       "1  2020-12-24 00:00:00   2020-12-19 00:00:00               VALLE   \n",
       "2  2020-12-24 00:00:00   2020-12-19 00:00:00               VALLE   \n",
       "3  2020-12-24 00:00:00   2020-12-22 00:00:00               VALLE   \n",
       "4  2020-12-24 00:00:00   2020-12-22 00:00:00               VALLE   \n",
       "\n",
       "  Nombre municipio  Edad  Unidad de medida de edad Sexo Tipo de contagio  \\\n",
       "0             CALI    67                         1    F      Comunitaria   \n",
       "1             CALI    66                         1    F      Comunitaria   \n",
       "2             CALI    68                         1    F      Comunitaria   \n",
       "3             CALI    74                         1    F      Comunitaria   \n",
       "4             CALI    65                         1    F      Comunitaria   \n",
       "\n",
       "  Ubicación del caso     Estado  Recuperado Fecha de inicio de síntomas  \\\n",
       "0               Casa       Leve  Recuperado                  2020-12-21   \n",
       "1               Casa       Leve  Recuperado                  2020-12-07   \n",
       "2               Casa       Leve  Recuperado                  2020-12-18   \n",
       "3          Fallecido  Fallecido   Fallecido                  2020-12-17   \n",
       "4               Casa       Leve  Recuperado                  2020-12-21   \n",
       "\n",
       "  Fecha de diagnóstico Fecha de recuperación Tipo de recuperación  \\\n",
       "0           2020-12-23            2021-01-04               Tiempo   \n",
       "1           2020-12-23            2020-12-25               Tiempo   \n",
       "2           2020-12-22            2021-01-01               Tiempo   \n",
       "3           2020-12-23            2021-06-01               Tiempo   \n",
       "4           2020-12-23            2021-01-04               Tiempo   \n",
       "\n",
       "   Pertenencia étnica  sobrevivio  dias_diagnostico  \n",
       "0                   6           1               2.0  \n",
       "1                   6           1              16.0  \n",
       "2                   6           1               4.0  \n",
       "3                   6           0               6.0  \n",
       "4                   6           1               2.0  "
      ]
     },
     "execution_count": 37,
     "metadata": {},
     "output_type": "execute_result"
    }
   ],
   "source": [
    "covid.head()"
   ]
  }
 ],
 "metadata": {
  "kernelspec": {
   "display_name": "Analitica2025",
   "language": "python",
   "name": "python3"
  },
  "language_info": {
   "codemirror_mode": {
    "name": "ipython",
    "version": 3
   },
   "file_extension": ".py",
   "mimetype": "text/x-python",
   "name": "python",
   "nbconvert_exporter": "python",
   "pygments_lexer": "ipython3",
   "version": "3.12.8"
  }
 },
 "nbformat": 4,
 "nbformat_minor": 4
}
