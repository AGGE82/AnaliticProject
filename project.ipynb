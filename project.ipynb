{
 "cells": [
  {
   "cell_type": "code",
   "execution_count": 1,
   "metadata": {},
   "outputs": [],
   "source": [
    "import pandas as pd"
   ]
  },
  {
   "cell_type": "code",
   "execution_count": 2,
   "metadata": {},
   "outputs": [
    {
     "name": "stderr",
     "output_type": "stream",
     "text": [
      "C:\\Users\\mfeom\\AppData\\Local\\Temp\\ipykernel_16288\\3347346127.py:1: DtypeWarning: Columns (13,14) have mixed types. Specify dtype option on import or set low_memory=False.\n",
      "  covid = pd.read_csv(\"Casos_positivos_de_COVID-19_en_Colombia._20250112.csv\", sep=\";\", nrows=500000)\n"
     ]
    },
    {
     "data": {
      "text/html": [
       "<div>\n",
       "<style scoped>\n",
       "    .dataframe tbody tr th:only-of-type {\n",
       "        vertical-align: middle;\n",
       "    }\n",
       "\n",
       "    .dataframe tbody tr th {\n",
       "        vertical-align: top;\n",
       "    }\n",
       "\n",
       "    .dataframe thead th {\n",
       "        text-align: right;\n",
       "    }\n",
       "</style>\n",
       "<table border=\"1\" class=\"dataframe\">\n",
       "  <thead>\n",
       "    <tr style=\"text-align: right;\">\n",
       "      <th></th>\n",
       "      <th>fecha reporte web</th>\n",
       "      <th>ID de caso</th>\n",
       "      <th>Fecha de notificación</th>\n",
       "      <th>Código DIVIPOLA departamento</th>\n",
       "      <th>Nombre departamento</th>\n",
       "      <th>Código DIVIPOLA municipio</th>\n",
       "      <th>Nombre municipio</th>\n",
       "      <th>Edad</th>\n",
       "      <th>Unidad de medida de edad</th>\n",
       "      <th>Sexo</th>\n",
       "      <th>...</th>\n",
       "      <th>Código ISO del país</th>\n",
       "      <th>Nombre del país</th>\n",
       "      <th>Recuperado</th>\n",
       "      <th>Fecha de inicio de síntomas</th>\n",
       "      <th>Fecha de muerte</th>\n",
       "      <th>Fecha de diagnóstico</th>\n",
       "      <th>Fecha de recuperación</th>\n",
       "      <th>Tipo de recuperación</th>\n",
       "      <th>Pertenencia étnica</th>\n",
       "      <th>Nombre del grupo étnico</th>\n",
       "    </tr>\n",
       "  </thead>\n",
       "  <tbody>\n",
       "    <tr>\n",
       "      <th>0</th>\n",
       "      <td>2020-12-24 00:00:00</td>\n",
       "      <td>1,556,979</td>\n",
       "      <td>2020-12-22 00:00:00</td>\n",
       "      <td>76</td>\n",
       "      <td>VALLE</td>\n",
       "      <td>76,001</td>\n",
       "      <td>CALI</td>\n",
       "      <td>67</td>\n",
       "      <td>1</td>\n",
       "      <td>F</td>\n",
       "      <td>...</td>\n",
       "      <td>NaN</td>\n",
       "      <td>NaN</td>\n",
       "      <td>Recuperado</td>\n",
       "      <td>2020-12-21 00:00:00</td>\n",
       "      <td>NaN</td>\n",
       "      <td>2020-12-23 00:00:00</td>\n",
       "      <td>2021-01-04 00:00:00</td>\n",
       "      <td>Tiempo</td>\n",
       "      <td>6</td>\n",
       "      <td>NaN</td>\n",
       "    </tr>\n",
       "    <tr>\n",
       "      <th>1</th>\n",
       "      <td>2020-12-24 00:00:00</td>\n",
       "      <td>1,556,980</td>\n",
       "      <td>2020-12-19 00:00:00</td>\n",
       "      <td>76</td>\n",
       "      <td>VALLE</td>\n",
       "      <td>76,001</td>\n",
       "      <td>CALI</td>\n",
       "      <td>66</td>\n",
       "      <td>1</td>\n",
       "      <td>F</td>\n",
       "      <td>...</td>\n",
       "      <td>NaN</td>\n",
       "      <td>NaN</td>\n",
       "      <td>Recuperado</td>\n",
       "      <td>2020-12-07 00:00:00</td>\n",
       "      <td>NaN</td>\n",
       "      <td>2020-12-23 00:00:00</td>\n",
       "      <td>2020-12-25 00:00:00</td>\n",
       "      <td>Tiempo</td>\n",
       "      <td>6</td>\n",
       "      <td>NaN</td>\n",
       "    </tr>\n",
       "    <tr>\n",
       "      <th>2</th>\n",
       "      <td>2020-12-24 00:00:00</td>\n",
       "      <td>1,556,981</td>\n",
       "      <td>2020-12-19 00:00:00</td>\n",
       "      <td>76</td>\n",
       "      <td>VALLE</td>\n",
       "      <td>76,001</td>\n",
       "      <td>CALI</td>\n",
       "      <td>68</td>\n",
       "      <td>1</td>\n",
       "      <td>F</td>\n",
       "      <td>...</td>\n",
       "      <td>NaN</td>\n",
       "      <td>NaN</td>\n",
       "      <td>Recuperado</td>\n",
       "      <td>2020-12-18 00:00:00</td>\n",
       "      <td>NaN</td>\n",
       "      <td>2020-12-22 00:00:00</td>\n",
       "      <td>2021-01-01 00:00:00</td>\n",
       "      <td>Tiempo</td>\n",
       "      <td>6</td>\n",
       "      <td>NaN</td>\n",
       "    </tr>\n",
       "    <tr>\n",
       "      <th>3</th>\n",
       "      <td>2020-12-24 00:00:00</td>\n",
       "      <td>1,556,982</td>\n",
       "      <td>2020-12-22 00:00:00</td>\n",
       "      <td>76</td>\n",
       "      <td>VALLE</td>\n",
       "      <td>76,001</td>\n",
       "      <td>CALI</td>\n",
       "      <td>74</td>\n",
       "      <td>1</td>\n",
       "      <td>F</td>\n",
       "      <td>...</td>\n",
       "      <td>NaN</td>\n",
       "      <td>NaN</td>\n",
       "      <td>Fallecido</td>\n",
       "      <td>2020-12-17 00:00:00</td>\n",
       "      <td>2020-12-30 00:00:00</td>\n",
       "      <td>2020-12-23 00:00:00</td>\n",
       "      <td>NaN</td>\n",
       "      <td>NaN</td>\n",
       "      <td>6</td>\n",
       "      <td>NaN</td>\n",
       "    </tr>\n",
       "    <tr>\n",
       "      <th>4</th>\n",
       "      <td>2020-12-24 00:00:00</td>\n",
       "      <td>1,556,983</td>\n",
       "      <td>2020-12-22 00:00:00</td>\n",
       "      <td>76</td>\n",
       "      <td>VALLE</td>\n",
       "      <td>76,001</td>\n",
       "      <td>CALI</td>\n",
       "      <td>65</td>\n",
       "      <td>1</td>\n",
       "      <td>F</td>\n",
       "      <td>...</td>\n",
       "      <td>NaN</td>\n",
       "      <td>NaN</td>\n",
       "      <td>Recuperado</td>\n",
       "      <td>2020-12-21 00:00:00</td>\n",
       "      <td>NaN</td>\n",
       "      <td>2020-12-23 00:00:00</td>\n",
       "      <td>2021-01-04 00:00:00</td>\n",
       "      <td>Tiempo</td>\n",
       "      <td>6</td>\n",
       "      <td>NaN</td>\n",
       "    </tr>\n",
       "  </tbody>\n",
       "</table>\n",
       "<p>5 rows × 23 columns</p>\n",
       "</div>"
      ],
      "text/plain": [
       "     fecha reporte web ID de caso Fecha de notificación  \\\n",
       "0  2020-12-24 00:00:00  1,556,979   2020-12-22 00:00:00   \n",
       "1  2020-12-24 00:00:00  1,556,980   2020-12-19 00:00:00   \n",
       "2  2020-12-24 00:00:00  1,556,981   2020-12-19 00:00:00   \n",
       "3  2020-12-24 00:00:00  1,556,982   2020-12-22 00:00:00   \n",
       "4  2020-12-24 00:00:00  1,556,983   2020-12-22 00:00:00   \n",
       "\n",
       "  Código DIVIPOLA departamento Nombre departamento Código DIVIPOLA municipio  \\\n",
       "0                           76               VALLE                    76,001   \n",
       "1                           76               VALLE                    76,001   \n",
       "2                           76               VALLE                    76,001   \n",
       "3                           76               VALLE                    76,001   \n",
       "4                           76               VALLE                    76,001   \n",
       "\n",
       "  Nombre municipio  Edad  Unidad de medida de edad Sexo  ...  \\\n",
       "0             CALI    67                         1    F  ...   \n",
       "1             CALI    66                         1    F  ...   \n",
       "2             CALI    68                         1    F  ...   \n",
       "3             CALI    74                         1    F  ...   \n",
       "4             CALI    65                         1    F  ...   \n",
       "\n",
       "  Código ISO del país Nombre del país  Recuperado Fecha de inicio de síntomas  \\\n",
       "0                 NaN             NaN  Recuperado         2020-12-21 00:00:00   \n",
       "1                 NaN             NaN  Recuperado         2020-12-07 00:00:00   \n",
       "2                 NaN             NaN  Recuperado         2020-12-18 00:00:00   \n",
       "3                 NaN             NaN   Fallecido         2020-12-17 00:00:00   \n",
       "4                 NaN             NaN  Recuperado         2020-12-21 00:00:00   \n",
       "\n",
       "       Fecha de muerte Fecha de diagnóstico Fecha de recuperación  \\\n",
       "0                  NaN  2020-12-23 00:00:00   2021-01-04 00:00:00   \n",
       "1                  NaN  2020-12-23 00:00:00   2020-12-25 00:00:00   \n",
       "2                  NaN  2020-12-22 00:00:00   2021-01-01 00:00:00   \n",
       "3  2020-12-30 00:00:00  2020-12-23 00:00:00                   NaN   \n",
       "4                  NaN  2020-12-23 00:00:00   2021-01-04 00:00:00   \n",
       "\n",
       "  Tipo de recuperación Pertenencia étnica Nombre del grupo étnico  \n",
       "0               Tiempo                  6                     NaN  \n",
       "1               Tiempo                  6                     NaN  \n",
       "2               Tiempo                  6                     NaN  \n",
       "3                  NaN                  6                     NaN  \n",
       "4               Tiempo                  6                     NaN  \n",
       "\n",
       "[5 rows x 23 columns]"
      ]
     },
     "execution_count": 2,
     "metadata": {},
     "output_type": "execute_result"
    }
   ],
   "source": [
    "covid = pd.read_csv(\"Casos_positivos_de_COVID-19_en_Colombia._20250112.csv\", sep=\";\", nrows=500000)\n",
    "covid.head()"
   ]
  },
  {
   "cell_type": "code",
   "execution_count": 3,
   "metadata": {},
   "outputs": [
    {
     "name": "stdout",
     "output_type": "stream",
     "text": [
      "0         Leve\n",
      "1         Leve\n",
      "2         Leve\n",
      "3    Fallecido\n",
      "4         Leve\n",
      "5         Leve\n",
      "6         Leve\n",
      "7    Fallecido\n",
      "8         Leve\n",
      "9         Leve\n",
      "Name: Estado, dtype: object\n"
     ]
    }
   ],
   "source": [
    "print(covid['Estado'].head(10))\n"
   ]
  },
  {
   "cell_type": "code",
   "execution_count": 4,
   "metadata": {},
   "outputs": [
    {
     "name": "stdout",
     "output_type": "stream",
     "text": [
      "<class 'pandas.core.frame.DataFrame'>\n",
      "RangeIndex: 500000 entries, 0 to 499999\n",
      "Data columns (total 23 columns):\n",
      " #   Column                        Non-Null Count   Dtype \n",
      "---  ------                        --------------   ----- \n",
      " 0   fecha reporte web             500000 non-null  object\n",
      " 1   ID de caso                    500000 non-null  object\n",
      " 2   Fecha de notificación         500000 non-null  object\n",
      " 3   Código DIVIPOLA departamento  500000 non-null  object\n",
      " 4   Nombre departamento           500000 non-null  object\n",
      " 5   Código DIVIPOLA municipio     500000 non-null  object\n",
      " 6   Nombre municipio              500000 non-null  object\n",
      " 7   Edad                          500000 non-null  int64 \n",
      " 8   Unidad de medida de edad      500000 non-null  int64 \n",
      " 9   Sexo                          500000 non-null  object\n",
      " 10  Tipo de contagio              500000 non-null  object\n",
      " 11  Ubicación del caso            497693 non-null  object\n",
      " 12  Estado                        497693 non-null  object\n",
      " 13  Código ISO del país           237 non-null     object\n",
      " 14  Nombre del país               237 non-null     object\n",
      " 15  Recuperado                    498129 non-null  object\n",
      " 16  Fecha de inicio de síntomas   453685 non-null  object\n",
      " 17  Fecha de muerte               15936 non-null   object\n",
      " 18  Fecha de diagnóstico          499729 non-null  object\n",
      " 19  Fecha de recuperación         484500 non-null  object\n",
      " 20  Tipo de recuperación          484500 non-null  object\n",
      " 21  Pertenencia étnica            500000 non-null  int64 \n",
      " 22  Nombre del grupo étnico       7380 non-null    object\n",
      "dtypes: int64(3), object(20)\n",
      "memory usage: 87.7+ MB\n"
     ]
    }
   ],
   "source": [
    "covid.info()"
   ]
  },
  {
   "cell_type": "code",
   "execution_count": 5,
   "metadata": {},
   "outputs": [
    {
     "data": {
      "text/plain": [
       "Tipo de recuperación\n",
       "Tiempo    391135\n",
       "PCR        93365\n",
       "Name: count, dtype: int64"
      ]
     },
     "execution_count": 5,
     "metadata": {},
     "output_type": "execute_result"
    }
   ],
   "source": [
    "covid.value_counts(\"Tipo de recuperación\")"
   ]
  },
  {
   "cell_type": "code",
   "execution_count": 6,
   "metadata": {},
   "outputs": [
    {
     "name": "stdout",
     "output_type": "stream",
     "text": [
      "Estado\n",
      "Leve         483956\n",
      "Fallecido     13629\n",
      "leve            108\n",
      "Name: count, dtype: int64\n"
     ]
    }
   ],
   "source": [
    "print(covid['Estado'].value_counts())"
   ]
  },
  {
   "cell_type": "code",
   "execution_count": 12,
   "metadata": {},
   "outputs": [
    {
     "data": {
      "text/plain": [
       "fecha reporte web                    0\n",
       "ID de caso                           0\n",
       "Fecha de notificación                0\n",
       "Código DIVIPOLA departamento         0\n",
       "Nombre departamento                  0\n",
       "Código DIVIPOLA municipio            0\n",
       "Nombre municipio                     0\n",
       "Edad                                 0\n",
       "Unidad de medida de edad             0\n",
       "Sexo                                 0\n",
       "Tipo de contagio                     0\n",
       "Ubicación del caso                2307\n",
       "Estado                            2307\n",
       "Código ISO del país             499763\n",
       "Nombre del país                 499763\n",
       "Recuperado                        1871\n",
       "Fecha de inicio de síntomas      46315\n",
       "Fecha de muerte                 484064\n",
       "Fecha de diagnóstico               271\n",
       "Fecha de recuperación            15500\n",
       "Tipo de recuperación             15500\n",
       "Pertenencia étnica                   0\n",
       "Nombre del grupo étnico         492620\n",
       "dtype: int64"
      ]
     },
     "execution_count": 12,
     "metadata": {},
     "output_type": "execute_result"
    }
   ],
   "source": [
    "duplicados = covid.duplicated()\n",
    "covid = covid.drop_duplicates()\n",
    "covid.isna().sum()"
   ]
  },
  {
   "cell_type": "code",
   "execution_count": 13,
   "metadata": {},
   "outputs": [],
   "source": [
    "covid['Fecha de inicio de síntomas'] = pd.to_datetime(covid['Fecha de inicio de síntomas'], errors='coerce')\n",
    "covid['Fecha de diagnóstico'] = pd.to_datetime(covid['Fecha de diagnóstico'], errors='coerce')\n",
    "covid['Fecha de muerte'] = pd.to_datetime(covid['Fecha de muerte'], errors='coerce')\n",
    "covid['Fecha de recuperación'] = pd.to_datetime(covid['Fecha de recuperación'], errors='coerce')"
   ]
  },
  {
   "cell_type": "code",
   "execution_count": 14,
   "metadata": {},
   "outputs": [],
   "source": [
    "covid['sobrevivio'] = covid['Fecha de muerte'].isna().astype(int)"
   ]
  },
  {
   "cell_type": "code",
   "execution_count": 15,
   "metadata": {},
   "outputs": [],
   "source": [
    "covid['dias_diagnostico'] = (covid['Fecha de diagnóstico'] - covid['Fecha de inicio de síntomas']).dt.days"
   ]
  },
  {
   "cell_type": "code",
   "execution_count": 16,
   "metadata": {},
   "outputs": [],
   "source": [
    "analisis = covid[['dias_diagnostico', 'sobrevivio']].dropna()"
   ]
  },
  {
   "cell_type": "code",
   "execution_count": 17,
   "metadata": {},
   "outputs": [
    {
     "name": "stdout",
     "output_type": "stream",
     "text": [
      "Promedio de días entre síntomas y diagnóstico:\n",
      "sobrevivio\n",
      "0    9.497069\n",
      "1    8.898169\n",
      "Name: dias_diagnostico, dtype: float64\n"
     ]
    }
   ],
   "source": [
    "print(\"Promedio de días entre síntomas y diagnóstico:\")\n",
    "print(analisis.groupby('sobrevivio')['dias_diagnostico'].mean())"
   ]
  },
  {
   "cell_type": "code",
   "execution_count": 18,
   "metadata": {},
   "outputs": [
    {
     "data": {
      "text/plain": [
       "<Axes: xlabel='sobrevivio', ylabel='dias_diagnostico'>"
      ]
     },
     "execution_count": 18,
     "metadata": {},
     "output_type": "execute_result"
    },
    {
     "data": {
      "image/png": "[encoded data removed]",
      "text/plain": [
       "<Figure size 640x480 with 1 Axes>"
      ]
     },
     "metadata": {},
     "output_type": "display_data"
    }
   ],
   "source": [
    "import seaborn as sns\n",
    "sns.boxplot(x='sobrevivio', y='dias_diagnostico', data=covid)"
   ]
  },
  {
   "cell_type": "code",
   "execution_count": 21,
   "metadata": {},
   "outputs": [
    {
     "name": "stdout",
     "output_type": "stream",
     "text": [
      "   Edad  Sexo  Tipo de contagio  Ubicación del caso  dias_diagnostico\n",
      "0    67     0                 0                   1               2.0\n",
      "1    66     0                 0                   1              16.0\n",
      "2    68     0                 0                   1               4.0\n",
      "3    74     0                 0                   2               6.0\n",
      "4    65     0                 0                   1               2.0\n",
      "sobrevivio\n",
      "1    437568\n",
      "0     13617\n",
      "Name: count, dtype: int64\n"
     ]
    }
   ],
   "source": [
    "from sklearn.model_selection import train_test_split\n",
    "from sklearn.preprocessing import LabelEncoder\n",
    "\n",
    "# Copia para no alterar tu dataset original\n",
    "data = covid[['Edad', 'Sexo', 'Tipo de contagio', 'Ubicación del caso', 'dias_diagnostico', 'sobrevivio']].dropna()\n",
    "\n",
    "# Codificar variables categóricas\n",
    "le = LabelEncoder()\n",
    "for col in ['Sexo', 'Tipo de contagio', 'Ubicación del caso']:\n",
    "    data[col] = le.fit_transform(data[col])\n",
    "\n",
    "# Separar variables predictoras y objetivo\n",
    "X = data.drop('sobrevivio', axis=1)\n",
    "y = data['sobrevivio']\n",
    "\n",
    "# Dividir en entrenamiento y prueba\n",
    "X_train, X_test, y_train, y_test = train_test_split(X, y, test_size=0.2, random_state=42)\n",
    "print(X.head())\n",
    "print(y.value_counts())  # Para ver cuántos sobrevivieron vs no\n"
   ]
  },
  {
   "cell_type": "code",
   "execution_count": 27,
   "metadata": {},
   "outputs": [
    {
     "name": "stdout",
     "output_type": "stream",
     "text": [
      "count    451185.000000\n",
      "mean          8.916050\n",
      "std           5.782817\n",
      "min           0.000000\n",
      "25%           4.000000\n",
      "50%           8.000000\n",
      "75%          14.000000\n",
      "max         145.000000\n",
      "Name: dias_diagnostico, dtype: float64\n"
     ]
    }
   ],
   "source": [
    "print(modelo_df['dias_diagnostico'].describe())\n"
   ]
  },
  {
   "cell_type": "code",
   "execution_count": 30,
   "metadata": {},
   "outputs": [
    {
     "data": {
      "text/plain": [
       "Código ISO del país        452280\n",
       "Nombre del país            452280\n",
       "Nombre del grupo étnico    445643\n",
       "Fecha de muerte            436744\n",
       "Fecha de recuperación       15356\n",
       "Tipo de recuperación        15356\n",
       "Ubicación del caso           2237\n",
       "Estado                       2237\n",
       "Recuperado                   1824\n",
       "dtype: int64"
      ]
     },
     "execution_count": 30,
     "metadata": {},
     "output_type": "execute_result"
    }
   ],
   "source": [
    "columns_with_missing = covid.isna().sum()[covid.isna().sum() > 0]\n",
    "columns_with_missing.sort_values(ascending=False)"
   ]
  },
  {
   "cell_type": "code",
   "execution_count": 31,
   "metadata": {},
   "outputs": [
    {
     "name": "stdout",
     "output_type": "stream",
     "text": [
      "Index(['Código ISO del país', 'Nombre del país', 'Fecha de muerte',\n",
      "       'Nombre del grupo étnico', 'ID de caso'],\n",
      "      dtype='object')\n"
     ]
    }
   ],
   "source": [
    "threshold_colum = len(covid) * 0.3\n",
    "cols_to_drop = covid.columns[covid.isna().sum() > threshold_colum]\n",
    "cols_to_drop = cols_to_drop.append(pd.Index(['ID de caso']))\n",
    "print(cols_to_drop)"
   ]
  },
  {
   "cell_type": "code",
   "execution_count": 32,
   "metadata": {},
   "outputs": [],
   "source": [
    "covid.drop(columns=cols_to_drop, inplace=True)"
   ]
  },
  {
   "cell_type": "code",
   "execution_count": 33,
   "metadata": {},
   "outputs": [
    {
     "data": {
      "text/plain": [
       "Ubicación del caso        2237\n",
       "Estado                    2237\n",
       "Recuperado                1824\n",
       "Fecha de recuperación    15356\n",
       "Tipo de recuperación     15356\n",
       "dtype: int64"
      ]
     },
     "execution_count": 33,
     "metadata": {},
     "output_type": "execute_result"
    }
   ],
   "source": [
    "missing_values_after_drop = covid.isnull().sum()\n",
    "columns_with_missing_after_drop = missing_values_after_drop[missing_values_after_drop > 0]\n",
    "columns_with_missing_after_drop "
   ]
  },
  {
   "cell_type": "code",
   "execution_count": 35,
   "metadata": {},
   "outputs": [],
   "source": [
    "categorical_columns = ['Ubicación del caso', 'Estado', 'Recuperado', 'Fecha de recuperación', 'Tipo de recuperación']\n",
    "for col in categorical_columns:\n",
    "    covid[col] = covid[col].fillna(covid[col].mode()[0])"
   ]
  },
  {
   "cell_type": "code",
   "execution_count": 34,
   "metadata": {},
   "outputs": [
    {
     "data": {
      "text/html": [
       "<div>\n",
       "<style scoped>\n",
       "    .dataframe tbody tr th:only-of-type {\n",
       "        vertical-align: middle;\n",
       "    }\n",
       "\n",
       "    .dataframe tbody tr th {\n",
       "        vertical-align: top;\n",
       "    }\n",
       "\n",
       "    .dataframe thead th {\n",
       "        text-align: right;\n",
       "    }\n",
       "</style>\n",
       "<table border=\"1\" class=\"dataframe\">\n",
       "  <thead>\n",
       "    <tr style=\"text-align: right;\">\n",
       "      <th></th>\n",
       "      <th>fecha reporte web</th>\n",
       "      <th>Fecha de notificación</th>\n",
       "      <th>Código DIVIPOLA departamento</th>\n",
       "      <th>Nombre departamento</th>\n",
       "      <th>Código DIVIPOLA municipio</th>\n",
       "      <th>Nombre municipio</th>\n",
       "      <th>Edad</th>\n",
       "      <th>Unidad de medida de edad</th>\n",
       "      <th>Sexo</th>\n",
       "      <th>Tipo de contagio</th>\n",
       "      <th>Ubicación del caso</th>\n",
       "      <th>Estado</th>\n",
       "      <th>Recuperado</th>\n",
       "      <th>Fecha de inicio de síntomas</th>\n",
       "      <th>Fecha de diagnóstico</th>\n",
       "      <th>Fecha de recuperación</th>\n",
       "      <th>Tipo de recuperación</th>\n",
       "      <th>Pertenencia étnica</th>\n",
       "      <th>sobrevivio</th>\n",
       "      <th>dias_diagnostico</th>\n",
       "    </tr>\n",
       "  </thead>\n",
       "  <tbody>\n",
       "    <tr>\n",
       "      <th>0</th>\n",
       "      <td>2020-12-24 00:00:00</td>\n",
       "      <td>2020-12-22 00:00:00</td>\n",
       "      <td>76</td>\n",
       "      <td>VALLE</td>\n",
       "      <td>76,001</td>\n",
       "      <td>CALI</td>\n",
       "      <td>67</td>\n",
       "      <td>1</td>\n",
       "      <td>F</td>\n",
       "      <td>Comunitaria</td>\n",
       "      <td>Casa</td>\n",
       "      <td>Leve</td>\n",
       "      <td>Recuperado</td>\n",
       "      <td>2020-12-21</td>\n",
       "      <td>2020-12-23</td>\n",
       "      <td>2021-01-04</td>\n",
       "      <td>Tiempo</td>\n",
       "      <td>6</td>\n",
       "      <td>1</td>\n",
       "      <td>2.0</td>\n",
       "    </tr>\n",
       "    <tr>\n",
       "      <th>1</th>\n",
       "      <td>2020-12-24 00:00:00</td>\n",
       "      <td>2020-12-19 00:00:00</td>\n",
       "      <td>76</td>\n",
       "      <td>VALLE</td>\n",
       "      <td>76,001</td>\n",
       "      <td>CALI</td>\n",
       "      <td>66</td>\n",
       "      <td>1</td>\n",
       "      <td>F</td>\n",
       "      <td>Comunitaria</td>\n",
       "      <td>Casa</td>\n",
       "      <td>Leve</td>\n",
       "      <td>Recuperado</td>\n",
       "      <td>2020-12-07</td>\n",
       "      <td>2020-12-23</td>\n",
       "      <td>2020-12-25</td>\n",
       "      <td>Tiempo</td>\n",
       "      <td>6</td>\n",
       "      <td>1</td>\n",
       "      <td>16.0</td>\n",
       "    </tr>\n",
       "    <tr>\n",
       "      <th>2</th>\n",
       "      <td>2020-12-24 00:00:00</td>\n",
       "      <td>2020-12-19 00:00:00</td>\n",
       "      <td>76</td>\n",
       "      <td>VALLE</td>\n",
       "      <td>76,001</td>\n",
       "      <td>CALI</td>\n",
       "      <td>68</td>\n",
       "      <td>1</td>\n",
       "      <td>F</td>\n",
       "      <td>Comunitaria</td>\n",
       "      <td>Casa</td>\n",
       "      <td>Leve</td>\n",
       "      <td>Recuperado</td>\n",
       "      <td>2020-12-18</td>\n",
       "      <td>2020-12-22</td>\n",
       "      <td>2021-01-01</td>\n",
       "      <td>Tiempo</td>\n",
       "      <td>6</td>\n",
       "      <td>1</td>\n",
       "      <td>4.0</td>\n",
       "    </tr>\n",
       "    <tr>\n",
       "      <th>3</th>\n",
       "      <td>2020-12-24 00:00:00</td>\n",
       "      <td>2020-12-22 00:00:00</td>\n",
       "      <td>76</td>\n",
       "      <td>VALLE</td>\n",
       "      <td>76,001</td>\n",
       "      <td>CALI</td>\n",
       "      <td>74</td>\n",
       "      <td>1</td>\n",
       "      <td>F</td>\n",
       "      <td>Comunitaria</td>\n",
       "      <td>Fallecido</td>\n",
       "      <td>Fallecido</td>\n",
       "      <td>Fallecido</td>\n",
       "      <td>2020-12-17</td>\n",
       "      <td>2020-12-23</td>\n",
       "      <td>NaT</td>\n",
       "      <td>NaN</td>\n",
       "      <td>6</td>\n",
       "      <td>0</td>\n",
       "      <td>6.0</td>\n",
       "    </tr>\n",
       "    <tr>\n",
       "      <th>4</th>\n",
       "      <td>2020-12-24 00:00:00</td>\n",
       "      <td>2020-12-22 00:00:00</td>\n",
       "      <td>76</td>\n",
       "      <td>VALLE</td>\n",
       "      <td>76,001</td>\n",
       "      <td>CALI</td>\n",
       "      <td>65</td>\n",
       "      <td>1</td>\n",
       "      <td>F</td>\n",
       "      <td>Comunitaria</td>\n",
       "      <td>Casa</td>\n",
       "      <td>Leve</td>\n",
       "      <td>Recuperado</td>\n",
       "      <td>2020-12-21</td>\n",
       "      <td>2020-12-23</td>\n",
       "      <td>2021-01-04</td>\n",
       "      <td>Tiempo</td>\n",
       "      <td>6</td>\n",
       "      <td>1</td>\n",
       "      <td>2.0</td>\n",
       "    </tr>\n",
       "  </tbody>\n",
       "</table>\n",
       "</div>"
      ],
      "text/plain": [
       "     fecha reporte web Fecha de notificación Código DIVIPOLA departamento  \\\n",
       "0  2020-12-24 00:00:00   2020-12-22 00:00:00                           76   \n",
       "1  2020-12-24 00:00:00   2020-12-19 00:00:00                           76   \n",
       "2  2020-12-24 00:00:00   2020-12-19 00:00:00                           76   \n",
       "3  2020-12-24 00:00:00   2020-12-22 00:00:00                           76   \n",
       "4  2020-12-24 00:00:00   2020-12-22 00:00:00                           76   \n",
       "\n",
       "  Nombre departamento Código DIVIPOLA municipio Nombre municipio  Edad  \\\n",
       "0               VALLE                    76,001             CALI    67   \n",
       "1               VALLE                    76,001             CALI    66   \n",
       "2               VALLE                    76,001             CALI    68   \n",
       "3               VALLE                    76,001             CALI    74   \n",
       "4               VALLE                    76,001             CALI    65   \n",
       "\n",
       "   Unidad de medida de edad Sexo Tipo de contagio Ubicación del caso  \\\n",
       "0                         1    F      Comunitaria               Casa   \n",
       "1                         1    F      Comunitaria               Casa   \n",
       "2                         1    F      Comunitaria               Casa   \n",
       "3                         1    F      Comunitaria          Fallecido   \n",
       "4                         1    F      Comunitaria               Casa   \n",
       "\n",
       "      Estado  Recuperado Fecha de inicio de síntomas Fecha de diagnóstico  \\\n",
       "0       Leve  Recuperado                  2020-12-21           2020-12-23   \n",
       "1       Leve  Recuperado                  2020-12-07           2020-12-23   \n",
       "2       Leve  Recuperado                  2020-12-18           2020-12-22   \n",
       "3  Fallecido   Fallecido                  2020-12-17           2020-12-23   \n",
       "4       Leve  Recuperado                  2020-12-21           2020-12-23   \n",
       "\n",
       "  Fecha de recuperación Tipo de recuperación  Pertenencia étnica  sobrevivio  \\\n",
       "0            2021-01-04               Tiempo                   6           1   \n",
       "1            2020-12-25               Tiempo                   6           1   \n",
       "2            2021-01-01               Tiempo                   6           1   \n",
       "3                   NaT                  NaN                   6           0   \n",
       "4            2021-01-04               Tiempo                   6           1   \n",
       "\n",
       "   dias_diagnostico  \n",
       "0               2.0  \n",
       "1              16.0  \n",
       "2               4.0  \n",
       "3               6.0  \n",
       "4               2.0  "
      ]
     },
     "execution_count": 34,
     "metadata": {},
     "output_type": "execute_result"
    }
   ],
   "source": [
    "covid.head()"
   ]
  }
 ],
 "metadata": {
  "kernelspec": {
   "display_name": "Python 3 (ipykernel)",
   "language": "python",
   "name": "python3"
  },
  "language_info": {
   "codemirror_mode": {
    "name": "ipython",
    "version": 3
   },
   "file_extension": ".py",
   "mimetype": "text/x-python",
   "name": "python",
   "nbconvert_exporter": "python",
   "pygments_lexer": "ipython3",
   "version": "3.12.8"
  }
 },
 "nbformat": 4,
 "nbformat_minor": 4
}
